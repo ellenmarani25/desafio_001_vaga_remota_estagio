{
 "cells": [
  {
   "cell_type": "markdown",
   "metadata": {},
   "source": [
    "# TESTE - VAGA ESTAGIÁRIO TI 100% REMOTO \n",
    "\n",
    "### Nome Candidata: Ellen Marani \n",
    "\n",
    "### Informações sobre a Candidata:\n",
    "\n",
    "* 26 anos\n",
    "* Professora em transição de carreira com conhecimentos iniciais em Python e consultas SQL.\n",
    "______________________________________________________________________________\n",
    "\n",
    "\n",
    "\n"
   ]
  },
  {
   "cell_type": "markdown",
   "metadata": {},
   "source": [
    "## Desafio:\n",
    "\n",
    "_Problema:_ Controle de Caixa em um Supermercado\n",
    "Você é responsável por desenvolver um programa para operar os caixas de um supermercado. O objetivo é facilitar o registro de produtos, cálculo de troco e manutenção do estoque. Aqui estão os requisitos:\n",
    "\n",
    "- Registro de Produtos:\n",
    "O programa deve permitir que o operador do caixa registre os produtos.\n",
    "Cada produto tem um nome, preço unitário e quantidade.\n",
    "O operador deve poder adicionar vários produtos a uma compra.\n",
    "\n",
    "- Cálculo do Total:\n",
    "O programa deve calcular o valor total da compra com base nos produtos registrados.\n",
    "Ele deve exibir o subtotal, o valor dos impostos (se aplicável) e o valor total a ser pago pelo cliente.\n",
    "\n",
    "- Troco:\n",
    "O programa deve calcular o troco a ser dado ao cliente com base no valor pago.\n",
    "Ele deve fornecer a menor quantidade possível de notas e moedas.\n",
    "\n",
    "- Observações:\n",
    "\n",
    "Você pode escolher a linguagem de programação que preferir para implementar a solução.\n",
    "Deverá ser criado um projeto no GITHUB bem documentado.\n",
    "Espero que esse problema estimule sua criatividade! 🛒💻"
   ]
  },
  {
   "cell_type": "markdown",
   "metadata": {},
   "source": [
    "## Resolução"
   ]
  },
  {
   "cell_type": "code",
   "execution_count": 44,
   "metadata": {},
   "outputs": [
    {
     "name": "stdout",
     "output_type": "stream",
     "text": [
      "Compra Finalizada\n",
      "\n",
      "Produtos:\n",
      "2x Arroz - R$11.50 cada\n",
      "3x Feijão - R$8.50 cada\n",
      "\n",
      "Subtotal: R$48.50\n",
      "Impostos: R$4.85\n",
      "Total com impostos: R$53.35\n",
      "Valor pago insuficiente. Faltam R$23.35\n"
     ]
    }
   ],
   "source": [
    "# Definição da classe Mercadoria\n",
    "class Mercadoria:\n",
    "    def __init__(self, nome, preco_unitario, quantidade):\n",
    "        self.nome = nome\n",
    "        self.preco_unitario = preco_unitario\n",
    "        self.quantidade = quantidade\n",
    "\n",
    "# Definição da classe Compra\n",
    "class Compra:\n",
    "    def __init__(self):\n",
    "        self.produtos = []  # Lista para armazenar os produtos adicionados durante a compra\n",
    "\n",
    "    def adicionar_produto(self, mercadoria, quantidade):\n",
    "        \"\"\" Adiciona uma mercadoria à compra com a quantidade especificada\"\"\"\n",
    "        self.produtos.append((mercadoria, quantidade))\n",
    "    \n",
    "    def calcular_subtotal(self):\n",
    "        \"\"\"Calcula o subtotal da compra.\"\"\"\n",
    "        subtotal = 0\n",
    "        for mercadoria, quantidade in self.produtos:\n",
    "            subtotal += mercadoria.preco_unitario * quantidade\n",
    "        return subtotal\n",
    "\n",
    "    def calcular_impostos(self, taxa_imposto):\n",
    "        \"\"\"Calcula o valor dos impostos com base na taxa de imposto.\"\"\"\n",
    "        subtotal = self.calcular_subtotal()\n",
    "        impostos = subtotal * taxa_imposto / 100\n",
    "        return impostos\n",
    "\n",
    "    def calcular_total(self, taxa_imposto=0):\n",
    "        \"\"\"Calcula o total da compra, incluindo impostos se a taxa for especificada.\"\"\"\n",
    "        subtotal = self.calcular_subtotal()\n",
    "        total = subtotal + self.calcular_impostos(taxa_imposto)\n",
    "        return total\n",
    "    \n",
    "    def calcular_troco(self, valor_pago, total_compra):\n",
    "        \"\"\" Calcula o troco com base no valor pago pelo cliente e o total da compra \"\"\"\n",
    "        troco = valor_pago - total_compra\n",
    "        return max(0, troco)  # Retorna o troco (ou zero se o valor pago for menor que o total da compra)\n",
    "\n",
    "# Criando objetos da classe Mercadoria\n",
    "arroz = Mercadoria('Arroz', 11.50, 50)\n",
    "feijao = Mercadoria('Feijão', 8.50, 20)\n",
    "\n",
    "# Criando objeto da classe Compra\n",
    "minha_compra = Compra()\n",
    "\n",
    "# Adicionando produtos à compra\n",
    "minha_compra.adicionar_produto(arroz, 2)\n",
    "minha_compra.adicionar_produto(feijao, 3)\n",
    "\n",
    "# Calculando total da compra\n",
    "total_com_impostos = minha_compra.calcular_total(taxa_imposto=10)  # Assumindo 10% de impostos\n",
    "\n",
    "# Simulando pagamento do cliente\n",
    "valor_pago = 30.00\n",
    "\n",
    "# Exibindo resultados\n",
    "print(\"Compra Finalizada\\n\")\n",
    "print(\"Produtos:\")\n",
    "for mercadoria, quantidade in minha_compra.produtos:\n",
    "    print(f\"{quantidade}x {mercadoria.nome} - R${mercadoria.preco_unitario:.2f} cada\")\n",
    "\n",
    "print(f\"\\nSubtotal: R${minha_compra.calcular_subtotal():.2f}\")\n",
    "print(f\"Impostos: R${minha_compra.calcular_impostos(10):.2f}\")  # Assumindo 10% de impostos\n",
    "print(f\"Total com impostos: R${total_com_impostos:.2f}\")\n",
    "\n",
    "# Verifica se o valor pago é suficiente\n",
    "if valor_pago >= total_com_impostos:\n",
    "    troco = minha_compra.calcular_troco(valor_pago, total_com_impostos)\n",
    "    print(f\"Valor pago: R${valor_pago:.2f}\")\n",
    "    print(f\"Troco: R${troco:.2f}\")\n",
    "else:\n",
    "    print(f\"Valor pago insuficiente. Faltam R${total_com_impostos - valor_pago:.2f}\")\n"
   ]
  },
  {
   "cell_type": "markdown",
   "metadata": {},
   "source": [
    "#### Explicação de todas as partes"
   ]
  },
  {
   "cell_type": "markdown",
   "metadata": {},
   "source": [
    "Nesta parte do código, estamos definindo a classe `Mercadoria`. Esta classe é utilizada para representar cada produto que pode ser registrado na compra. Ela possui três atributos: `nome`, que armazena o nome do produto, `preco_unitario`, que armazena o preço unitário do produto, e `quantidade`, que armazena a quantidade disponível do produto.\n"
   ]
  },
  {
   "cell_type": "code",
   "execution_count": null,
   "metadata": {},
   "outputs": [],
   "source": [
    "# Definição da classe Mercadoria\n",
    "class Mercadoria:\n",
    "    def __init__(self, nome, preco_unitario, quantidade):\n",
    "        self.nome = nome\n",
    "        self.preco_unitario = preco_unitario\n",
    "        self.quantidade = quantidade\n"
   ]
  },
  {
   "cell_type": "markdown",
   "metadata": {},
   "source": [
    "Nesta parte, definimos a classe `Compra`, que é responsável por gerenciar a compra realizada pelo cliente. Ela possui métodos para adicionar produtos à compra, calcular o subtotal da compra, calcular o valor dos impostos, calcular o total da compra com impostos (se aplicável) e calcular o troco a ser dado ao cliente.\n"
   ]
  },
  {
   "cell_type": "code",
   "execution_count": 45,
   "metadata": {},
   "outputs": [],
   "source": [
    "# Definição da classe Compra\n",
    "class Compra:\n",
    "    def __init__(self):\n",
    "        self.produtos = []  # Lista para armazenar os produtos adicionados durante a compra\n",
    "\n",
    "    def adicionar_produto(self, mercadoria, quantidade):\n",
    "        \"\"\" Adiciona uma mercadoria à compra com a quantidade especificada\"\"\"\n",
    "        self.produtos.append((mercadoria, quantidade))\n",
    "    \n",
    "    def calcular_subtotal(self):\n",
    "        \"\"\"Calcula o subtotal da compra.\"\"\"\n",
    "        subtotal = 0\n",
    "        for mercadoria, quantidade in self.produtos:\n",
    "            subtotal += mercadoria.preco_unitario * quantidade\n",
    "        return subtotal\n",
    "\n",
    "    def calcular_impostos(self, taxa_imposto):\n",
    "        \"\"\"Calcula o valor dos impostos com base na taxa de imposto.\"\"\"\n",
    "        subtotal = self.calcular_subtotal()\n",
    "        impostos = subtotal * taxa_imposto / 100\n",
    "        return impostos\n",
    "\n",
    "    def calcular_total(self, taxa_imposto=0):\n",
    "        \"\"\"Calcula o total da compra, incluindo impostos se a taxa for especificada.\"\"\"\n",
    "        subtotal = self.calcular_subtotal()\n",
    "        total = subtotal + self.calcular_impostos(taxa_imposto)\n",
    "        return total\n",
    "    \n",
    "    def calcular_troco(self, valor_pago, total_compra):\n",
    "        \"\"\" Calcula o troco com base no valor pago pelo cliente e o total da compra \"\"\"\n",
    "        troco = valor_pago - total_compra\n",
    "        return max(0, troco)  # Retorna o troco (ou zero se o valor pago for menor que o total da compra)\n"
   ]
  },
  {
   "cell_type": "markdown",
   "metadata": {},
   "source": [
    "Nesta parte, estamos criando objetos da classe `Mercadoria` para representar produtos específicos que serão adicionados à compra. Cada objeto representa um produto com um nome, um preço unitário e uma quantidade disponível.\n",
    "\n"
   ]
  },
  {
   "cell_type": "code",
   "execution_count": 46,
   "metadata": {},
   "outputs": [],
   "source": [
    "# Criando objetos da classe Mercadoria\n",
    "arroz = Mercadoria('Arroz', 11.50, 50)\n",
    "feijao = Mercadoria('Feijão', 8.50, 20)\n"
   ]
  },
  {
   "cell_type": "markdown",
   "metadata": {},
   "source": [
    "Aqui, criamos um objeto da classe `Compra` para representar a compra que o cliente está fazendo. Em seguida, adicionamos produtos à compra usando o método `adicionar_produto`, informando o produto e a quantidade desejada.\n"
   ]
  },
  {
   "cell_type": "code",
   "execution_count": 47,
   "metadata": {},
   "outputs": [],
   "source": [
    "# Criando objeto da classe Compra\n",
    "minha_compra = Compra()\n",
    "\n",
    "# Adicionando produtos à compra\n",
    "minha_compra.adicionar_produto(arroz, 2)\n",
    "minha_compra.adicionar_produto(feijao, 3)\n"
   ]
  },
  {
   "cell_type": "markdown",
   "metadata": {},
   "source": [
    "Nesta parte, estamos calculando o total da compra, considerando um imposto de 10%. O método `calcular_total` da classe `Compra` é chamado, passando a taxa de imposto como argumento.\n"
   ]
  },
  {
   "cell_type": "code",
   "execution_count": 48,
   "metadata": {},
   "outputs": [],
   "source": [
    "# Calculando total da compra\n",
    "total_com_impostos = minha_compra.calcular_total(taxa_imposto=10)  # Assumindo 10% de impostos\n"
   ]
  },
  {
   "cell_type": "markdown",
   "metadata": {},
   "source": [
    "Aqui, simulamos o pagamento do cliente, definindo o valor que ele pagou pela compra.\n"
   ]
  },
  {
   "cell_type": "code",
   "execution_count": 50,
   "metadata": {},
   "outputs": [],
   "source": [
    "# Simulando pagamento do cliente\n",
    "valor_pago = 30.00\n"
   ]
  },
  {
   "cell_type": "markdown",
   "metadata": {},
   "source": [
    "# Exibindo resultados"
   ]
  },
  {
   "cell_type": "code",
   "execution_count": 52,
   "metadata": {},
   "outputs": [
    {
     "name": "stdout",
     "output_type": "stream",
     "text": [
      "Compra Finalizada\n",
      "\n",
      "Produtos:\n",
      "2x Arroz - R$11.50 cada\n",
      "3x Feijão - R$8.50 cada\n",
      "\n",
      "Subtotal: R$48.50\n",
      "Impostos: R$4.85\n"
     ]
    }
   ],
   "source": [
    "print(\"Compra Finalizada\\n\")\n",
    "print(\"Produtos:\")\n",
    "for mercadoria, quantidade in minha_compra.produtos:\n",
    "    print(f\"{quantidade}x {mercadoria.nome} - R${mercadoria.preco_unitario:.2f} cada\")\n",
    "\n",
    "print(f\"\\nSubtotal: R${minha_compra.calcular_subtotal():.2f}\")\n",
    "print(f\"Impostos: R${minha_compra.calcular_impostos(10):.2f}\")\n"
   ]
  }
 ],
 "metadata": {
  "kernelspec": {
   "display_name": "Python 3",
   "language": "python",
   "name": "python3"
  },
  "language_info": {
   "codemirror_mode": {
    "name": "ipython",
    "version": 3
   },
   "file_extension": ".py",
   "mimetype": "text/x-python",
   "name": "python",
   "nbconvert_exporter": "python",
   "pygments_lexer": "ipython3",
   "version": "3.10.12"
  }
 },
 "nbformat": 4,
 "nbformat_minor": 2
}
